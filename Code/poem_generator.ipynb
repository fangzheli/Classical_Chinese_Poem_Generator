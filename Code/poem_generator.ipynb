{
 "cells": [
  {
   "cell_type": "code",
   "execution_count": 11,
   "id": "713538ec-b77d-49bf-915c-86563d3f57fe",
   "metadata": {},
   "outputs": [
    {
     "name": "stderr",
     "output_type": "stream",
     "text": [
      "Special tokens have been added in the vocabulary, make sure the associated word embeddings are fine-tuned or trained.\n",
      "Some weights of the model checkpoint at ./BERT_CCPoem_v1 were not used when initializing BertModel: ['cls.predictions.decoder.weight', 'cls.predictions.transform.dense.bias', 'cls.predictions.decoder.bias', 'cls.predictions.bias', 'cls.predictions.transform.LayerNorm.bias', 'cls.predictions.transform.LayerNorm.weight', 'cls.predictions.transform.dense.weight']\n",
      "- This IS expected if you are initializing BertModel from the checkpoint of a model trained on another task or with another architecture (e.g. initializing a BertForSequenceClassification model from a BertForPreTraining model).\n",
      "- This IS NOT expected if you are initializing BertModel from the checkpoint of a model that you expect to be exactly identical (initializing a BertForSequenceClassification model from a BertForSequenceClassification model).\n"
     ]
    }
   ],
   "source": [
    "from transformers import BertModel, BertTokenizer\n",
    "import torch\n",
    "tokenizer = BertTokenizer.from_pretrained('./BERT_CCPoem_v1') \n",
    "model = BertModel.from_pretrained('./BERT_CCPoem_v1')\n",
    "input_ids = torch.tensor(tokenizer.encode(\"一行白鹭上青天\")).unsqueeze(0) \n",
    "outputs = model(input_ids).last_hidden_state\n",
    "sen_emb = torch.mean(outputs, 1)[0] # This is the vector representation of \"一行白鹭上青天\""
   ]
  },
  {
   "cell_type": "code",
   "execution_count": 1,
   "id": "06ade236-64d4-46f1-97a7-8bb34d4ae557",
   "metadata": {},
   "outputs": [],
   "source": [
    "# sen_emb"
   ]
  },
  {
   "cell_type": "code",
   "execution_count": 6,
   "id": "df212fe8-5b3d-4cf8-9897-3e4e5e6ebfea",
   "metadata": {},
   "outputs": [
    {
     "data": {
      "text/plain": [
       "'last_hidden_state'"
      ]
     },
     "execution_count": 6,
     "metadata": {},
     "output_type": "execute_result"
    }
   ],
   "source": [
    "outputs"
   ]
  },
  {
   "cell_type": "code",
   "execution_count": 4,
   "id": "245de45c-0f6e-4c04-8ee3-57d6650589bf",
   "metadata": {},
   "outputs": [
    {
     "data": {
      "text/plain": [
       "tensor([[   3,   53,  121,  366, 1505,  190,  188,   24,    4]])"
      ]
     },
     "execution_count": 4,
     "metadata": {},
     "output_type": "execute_result"
    }
   ],
   "source": [
    "input_ids"
   ]
  },
  {
   "cell_type": "code",
   "execution_count": 10,
   "id": "2c7cb559-81c7-4a74-992f-c9bcdc61aec8",
   "metadata": {},
   "outputs": [
    {
     "data": {
      "text/plain": [
       "tensor([[[ 1.1077,  0.4682, -0.3591,  ..., -0.3688, -0.1969, -0.6727],\n",
       "         [ 0.4381, -1.1384,  1.4945,  ...,  0.4418, -0.5210,  0.1012],\n",
       "         [-0.6652, -1.6091,  0.5771,  ...,  1.8511, -0.3631,  0.3709],\n",
       "         ...,\n",
       "         [ 0.4964, -0.5751, -0.1065,  ...,  0.1263, -0.1237,  0.6932],\n",
       "         [ 0.6985, -0.4431, -1.4197,  ...,  1.0612,  0.6602,  0.6494],\n",
       "         [ 1.0534,  0.4176, -0.3729,  ..., -0.3996, -0.2258, -0.8076]]],\n",
       "       grad_fn=<NativeLayerNormBackward0>)"
      ]
     },
     "execution_count": 10,
     "metadata": {},
     "output_type": "execute_result"
    }
   ],
   "source": [
    "model(input_ids).last_hidden_state"
   ]
  },
  {
   "cell_type": "code",
   "execution_count": null,
   "id": "378c7957-d25c-4571-a0bb-922f96980909",
   "metadata": {},
   "outputs": [],
   "source": [
    "import numpy as np\n",
    "\n",
    "class PoemGeneration(object):\n",
    "    def __init__(self, model, tokenizer, max_length=512):\n",
    "        self.model = model\n",
    "        self.tokenizer = tokenizer\n",
    "        self.puncs = ['，', '。', '？', '；']\n",
    "        self.max_length = max_length\n",
    "        \n",
    "    def generate(sytle=\"\", novelty=3):\n",
    "        style_ids = self.tokenizer.encode(style)['input_ids']\n",
    "        style_ids = style_ids[:-1]\n",
    "        poetry_ids = poetry_ids[1:-1]\n",
    "        break_flag = False\n",
    "        while len(style_ids) + len(poetry_ids) <= self.max_length:\n",
    "            next_word = self._gen_next_word(style_ids + poetry_ids, topk)\n",
    "            if next_word in self.tokenizer.convert_tokens_to_ids(['[UNK]', '[PAD]', '[CLS]']):\n",
    "                    continue\n",
    "            next_ids = [next_word]"
   ]
  }
 ],
 "metadata": {
  "kernelspec": {
   "display_name": "Python 3 (ipykernel)",
   "language": "python",
   "name": "python3"
  },
  "language_info": {
   "codemirror_mode": {
    "name": "ipython",
    "version": 3
   },
   "file_extension": ".py",
   "mimetype": "text/x-python",
   "name": "python",
   "nbconvert_exporter": "python",
   "pygments_lexer": "ipython3",
   "version": "3.9.7"
  }
 },
 "nbformat": 4,
 "nbformat_minor": 5
}
